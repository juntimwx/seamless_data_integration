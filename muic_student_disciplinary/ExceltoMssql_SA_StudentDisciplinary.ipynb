{
 "cells": [
  {
   "cell_type": "code",
   "execution_count": 12,
   "id": "initial_id",
   "metadata": {
    "collapsed": true,
    "jupyter": {
     "is_executing": true
    }
   },
   "outputs": [],
   "source": [
    "import pandas as pd\n",
    "import pyodbc"
   ]
  },
  {
   "cell_type": "code",
   "execution_count": 14,
   "id": "67b2d3aeba9955a7",
   "metadata": {},
   "outputs": [
    {
     "name": "stderr",
     "output_type": "stream",
     "text": [
      "c:\\Users\\Juntima\\AppData\\Local\\Programs\\Python\\Python312\\Lib\\site-packages\\openpyxl\\worksheet\\_reader.py:329: UserWarning: Data Validation extension is not supported and will be removed\n",
      "  warn(msg)\n"
     ]
    }
   ],
   "source": [
    "data = pd.read_excel(r'D:\\SEAMLESS DATA INTEGRATION\\@DATA\\8_ITxOAAxSA\\Template_StudentDisciplinary_v.2024.05.20_SA.xlsx')"
   ]
  },
  {
   "cell_type": "code",
   "execution_count": 15,
   "id": "2f26eda8122a0737",
   "metadata": {},
   "outputs": [
    {
     "data": {
      "text/plain": [
       "Index(['Academic Year', 'Term', 'Date', 'Time', 'Student ID', 'Gender',\n",
       "       'Firstname', 'Surname', 'Major', 'Code', 'Subject', 'Lecturer name',\n",
       "       'Type_of_Issue', 'Type(Other)', 'Type_of_Exam ', 'No. of regulation',\n",
       "       'Level_of_Issue', 'Level_of_Punishment', 'Details', 'Location',\n",
       "       'Educational sanctions', 'Disciplimary sanctions', 'Appeal (Yes/No)',\n",
       "       'Result of Appeal', 'Remark'],\n",
       "      dtype='object')"
      ]
     },
     "execution_count": 15,
     "metadata": {},
     "output_type": "execute_result"
    }
   ],
   "source": [
    "data.columns"
   ]
  },
  {
   "cell_type": "code",
   "execution_count": 16,
   "id": "4ccec063",
   "metadata": {},
   "outputs": [],
   "source": [
    "df = pd.DataFrame(data, columns= \n",
    "               ['Academic Year', 'Term', 'Date', 'Time', 'Student ID', 'Gender',\n",
    "       'Firstname', 'Surname', 'Major', 'Code', 'Subject', 'Lecturer name',\n",
    "       'Type_of_Issue', 'Type(Other)', 'Type_of_Exam ', 'No. of regulation',\n",
    "       'Level_of_Issue', 'Level_of_Punishment', 'Details', 'Location',\n",
    "       'Educational sanctions', 'Disciplimary sanctions', 'Appeal (Yes/No)',\n",
    "       'Result of Appeal', 'Remark'])"
   ]
  },
  {
   "cell_type": "code",
   "execution_count": 17,
   "id": "8a4e72c0",
   "metadata": {},
   "outputs": [
    {
     "name": "stdout",
     "output_type": "stream",
     "text": [
      "              Academic Year  Term          Date           Time  Student ID  \\\n",
      "0   2022 - 2023 (2565-2566)     1  20 ก.ย. 2565  10:00 - 12:00     6529017   \n",
      "1   2022 - 2023 (2565-2566)     1  11 ต.ค. 2565  12:00 - 13:50     6580566   \n",
      "2   2022 - 2023 (2565-2566)     1  11 ต.ค. 2565  12:00 - 13:50     6380664   \n",
      "3   2022 - 2023 (2565-2566)     1  11 ต.ค. 2565  12:00 - 13:50     6380420   \n",
      "4   2022 - 2023 (2565-2566)     1  11 ต.ค. 2565  12:00 - 13:50     6480145   \n",
      "..                      ...   ...           ...            ...         ...   \n",
      "85  2022 - 2023 (2565-2566)     2   9 ก.พ. 2566  12:00 - 13:50     6281356   \n",
      "86  2022 - 2023 (2565-2566)     2   9 ก.พ. 2566  12:00 - 13:50     6481206   \n",
      "87  2022 - 2023 (2565-2566)     2   9 ก.พ. 2566  12:00 - 13:50     6480237   \n",
      "88  2022 - 2023 (2565-2566)     2  15 ก.พ. 2566  14:00 - 15:50     6580248   \n",
      "89  2022 - 2023 (2565-2566)     2  15 ก.พ. 2566  14:00 - 15:50     6481311   \n",
      "\n",
      "   Gender       Firstname             Surname Major      Code  ...  \\\n",
      "0       F       Patteera          CHAMROONSRI  DTDS       NaN  ...   \n",
      "1       M       Kistapas             UCHIYAMA  ICMF   ICGS123  ...   \n",
      "2       F  Usana Thongtha            Thongtha  ICCU   ICGS123  ...   \n",
      "3       F       Chanikarn       Adireknittaya  ICCD   ICGS123  ...   \n",
      "4       F           Sarah             Ruddell  ICCD   ICGS123  ...   \n",
      "..    ...             ...                 ...   ...       ...  ...   \n",
      "85      M      Nuttapong    Chantanakajonfung  ICCD   ICGS123  ...   \n",
      "86      M      Watsaphol        SUWANNASAKSIN  ICBI   ICCH221  ...   \n",
      "87      M        Wibhumi    Wisetsuvarnabhumi  ICFS   ICCH221  ...   \n",
      "88      M       Kawinpat    TECHAPICHEDVANICH  ICMI   ICGS135  ...   \n",
      "89      F        Gewalin   RUNGSRIRATTANAWONG  ICBE   ICGS135  ...   \n",
      "\n",
      "   No. of regulation  Level_of_Issue                     Level_of_Punishment  \\\n",
      "0                NaN  Low (SA Level)  ไม่ร้ายแรง 1 ว่ากล่าว ตักเตือนด้วยวาจา   \n",
      "1                NaN  Low (SA Level)  ไม่ร้ายแรง 1 ว่ากล่าว ตักเตือนด้วยวาจา   \n",
      "2                NaN  Low (SA Level)  ไม่ร้ายแรง 1 ว่ากล่าว ตักเตือนด้วยวาจา   \n",
      "3                NaN  Low (SA Level)  ไม่ร้ายแรง 1 ว่ากล่าว ตักเตือนด้วยวาจา   \n",
      "4                NaN  Low (SA Level)  ไม่ร้ายแรง 1 ว่ากล่าว ตักเตือนด้วยวาจา   \n",
      "..               ...             ...                                     ...   \n",
      "85               NaN  Low (SA Level)  ไม่ร้ายแรง 1 ว่ากล่าว ตักเตือนด้วยวาจา   \n",
      "86               NaN  Low (SA Level)  ไม่ร้ายแรง 1 ว่ากล่าว ตักเตือนด้วยวาจา   \n",
      "87               NaN  Low (SA Level)  ไม่ร้ายแรง 1 ว่ากล่าว ตักเตือนด้วยวาจา   \n",
      "88               NaN  Low (SA Level)  ไม่ร้ายแรง 1 ว่ากล่าว ตักเตือนด้วยวาจา   \n",
      "89               NaN  Low (SA Level)  ไม่ร้ายแรง 1 ว่ากล่าว ตักเตือนด้วยวาจา   \n",
      "\n",
      "                     Details       Location  Educational sanctions  \\\n",
      "0      จอดรถในพื้นที่ห้ามจอด  ถนนการุณยมิตร                    NaN   \n",
      "1       ใส่รองเท้าแตะเข้าสอบ            NaN                    NaN   \n",
      "2       ใส่รองเท้าแตะเข้าสอบ            NaN                    NaN   \n",
      "3       ใส่รองเท้าแตะเข้าสอบ            NaN                    NaN   \n",
      "4       ใส่รองเท้าแตะเข้าสอบ            NaN                    NaN   \n",
      "..                       ...            ...                    ...   \n",
      "85  ไม่ใส่ชุดนักศึกษาเข้าสอบ            NaN                    NaN   \n",
      "86      ใส่รองเท้าแตะเข้าสอบ            NaN                    NaN   \n",
      "87      ใส่รองเท้าแตะเข้าสอบ            NaN                    NaN   \n",
      "88      ใส่รองเท้าแตะเข้าสอบ            NaN                    NaN   \n",
      "89      ใส่รองเท้าแตะเข้าสอบ            NaN                    NaN   \n",
      "\n",
      "   Disciplimary sanctions Appeal (Yes/No) Result of Appeal Remark  \n",
      "0                     NaN             NaN              NaN    NaN  \n",
      "1                     NaN             NaN              NaN    NaN  \n",
      "2                     NaN             NaN              NaN    NaN  \n",
      "3                     NaN             NaN              NaN    NaN  \n",
      "4                     NaN             NaN              NaN    NaN  \n",
      "..                    ...             ...              ...    ...  \n",
      "85                    NaN             NaN              NaN    NaN  \n",
      "86                    NaN             NaN              NaN    NaN  \n",
      "87                    NaN             NaN              NaN    NaN  \n",
      "88                    NaN             NaN              NaN    NaN  \n",
      "89                    NaN             NaN              NaN    NaN  \n",
      "\n",
      "[90 rows x 25 columns]\n"
     ]
    }
   ],
   "source": [
    "print(df)"
   ]
  },
  {
   "cell_type": "code",
   "execution_count": 18,
   "id": "fda00135",
   "metadata": {},
   "outputs": [
    {
     "data": {
      "text/plain": [
       "Academic Year              object\n",
       "Term                        int64\n",
       "Date                       object\n",
       "Time                       object\n",
       "Student ID                  int64\n",
       "Gender                     object\n",
       "Firstname                  object\n",
       "Surname                    object\n",
       "Major                      object\n",
       "Code                       object\n",
       "Subject                    object\n",
       "Lecturer name              object\n",
       "Type_of_Issue              object\n",
       "Type(Other)               float64\n",
       "Type_of_Exam               object\n",
       "No. of regulation         float64\n",
       "Level_of_Issue             object\n",
       "Level_of_Punishment        object\n",
       "Details                    object\n",
       "Location                   object\n",
       "Educational sanctions     float64\n",
       "Disciplimary sanctions    float64\n",
       "Appeal (Yes/No)           float64\n",
       "Result of Appeal          float64\n",
       "Remark                    float64\n",
       "dtype: object"
      ]
     },
     "execution_count": 18,
     "metadata": {},
     "output_type": "execute_result"
    }
   ],
   "source": [
    "df.dtypes"
   ]
  },
  {
   "cell_type": "code",
   "execution_count": 19,
   "id": "c4b9dc35",
   "metadata": {},
   "outputs": [
    {
     "name": "stdout",
     "output_type": "stream",
     "text": [
      "Academic Year              object\n",
      "Term                        int64\n",
      "Date                       object\n",
      "Time                       object\n",
      "Student ID                  int64\n",
      "Gender                     object\n",
      "Firstname                  object\n",
      "Surname                    object\n",
      "Major                      object\n",
      "Code                       object\n",
      "Subject                    object\n",
      "Lecturer name              object\n",
      "Type_of_Issue              object\n",
      "Type(Other)               float64\n",
      "Type_of_Exam               object\n",
      "No. of regulation         float64\n",
      "Level_of_Issue             object\n",
      "Level_of_Punishment        object\n",
      "Details                    object\n",
      "Location                   object\n",
      "Educational sanctions     float64\n",
      "Disciplimary sanctions    float64\n",
      "Appeal (Yes/No)           float64\n",
      "Result of Appeal          float64\n",
      "Remark                    float64\n",
      "dtype: object\n"
     ]
    }
   ],
   "source": [
    "with pd.option_context('display.max_rows', None, 'display.max_columns', None):\n",
    "    print(df.dtypes)"
   ]
  },
  {
   "cell_type": "code",
   "execution_count": null,
   "id": "f4fda0a5",
   "metadata": {},
   "outputs": [
    {
     "data": {
      "text/plain": [
       "7"
      ]
     },
     "execution_count": 20,
     "metadata": {},
     "output_type": "execute_result"
    }
   ],
   "source": [
    "import sqlalchemy\n",
    "import pyodbc\n",
    "from sqlalchemy import create_engine\n",
    "from urllib.parse import quote\n",
    "from sqlalchemy.engine.url import URL\n",
    "\n",
    "HOST = 'localhost'\n",
    "PORT = '1433'\n",
    "USERNAME = ''\n",
    "PASSWORD = ''\n",
    "DATABASE = 'MUIC_StudentDisciplinary'\n",
    "\n",
    "myengine = create_engine(f\"mssql+pyodbc://{USERNAME}:{quote(PASSWORD)}@{HOST}/{DATABASE}?driver=ODBC+Driver+17+for+SQL+Server\")\n",
    "\n",
    "#conn_str = \"DRIVER={ODBC Driver 17 for SQL Server};SERVER=10.27.101.206;DATABASE=MUIC_Finance;UID=dwicadm01;PWD=A@Gf$170aGG69x\"  \n",
    "#connection = URL.create(\"mssql+pyodbc\", query={\"odbc_connect\": conn_str})\n",
    "#myengine = create_engine(connection)\n",
    "\n",
    "df.to_sql(\"sa_disciplinary_20240520\", myengine, index=False, chunksize=500, if_exists='replace')  #replace "
   ]
  }
 ],
 "metadata": {
  "kernelspec": {
   "display_name": "Python 3",
   "language": "python",
   "name": "python3"
  },
  "language_info": {
   "codemirror_mode": {
    "name": "ipython",
    "version": 3
   },
   "file_extension": ".py",
   "mimetype": "text/x-python",
   "name": "python",
   "nbconvert_exporter": "python",
   "pygments_lexer": "ipython3",
   "version": "3.12.5"
  }
 },
 "nbformat": 4,
 "nbformat_minor": 5
}
