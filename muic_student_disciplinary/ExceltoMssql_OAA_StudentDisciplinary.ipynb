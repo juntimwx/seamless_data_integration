{
 "cells": [
  {
   "cell_type": "code",
   "execution_count": 1,
   "id": "initial_id",
   "metadata": {
    "collapsed": true,
    "jupyter": {
     "is_executing": true
    }
   },
   "outputs": [],
   "source": [
    "import pandas as pd\n",
    "import pyodbc\n",
    "\n",
    "from datetime import datetime"
   ]
  },
  {
   "cell_type": "code",
   "execution_count": 2,
   "id": "67b2d3aeba9955a7",
   "metadata": {},
   "outputs": [
    {
     "name": "stderr",
     "output_type": "stream",
     "text": [
      "c:\\Users\\Juntima\\AppData\\Local\\Programs\\Python\\Python312\\Lib\\site-packages\\openpyxl\\worksheet\\_reader.py:329: UserWarning: Data Validation extension is not supported and will be removed\n",
      "  warn(msg)\n"
     ]
    }
   ],
   "source": [
    "data = pd.read_excel(r'D:\\SEAMLESS DATA INTEGRATION\\@DATA\\8_ITxOAAxSA\\Template_StudentDisciplinary_v.2024.05.20_OAA.xlsx')"
   ]
  },
  {
   "cell_type": "code",
   "execution_count": 3,
   "id": "2f26eda8122a0737",
   "metadata": {},
   "outputs": [
    {
     "data": {
      "text/plain": [
       "Index(['Academic Year', 'Term', 'Date', 'Time', 'Student ID', 'Gender',\n",
       "       'Firstname', 'Surname', 'Major', 'Code', 'Subject', 'Lecturer name',\n",
       "       'Type_of_Issue', 'Type(Other)', 'Type_of_Exam ', 'No. of regulation',\n",
       "       'Level_of_Issue', 'Level_of_Punishment', 'Details', 'Location',\n",
       "       'Educational sanctions', 'Disciplimary sanctions', 'Appeal (Yes/No)',\n",
       "       'Result of Appeal', 'Remark'],\n",
       "      dtype='object')"
      ]
     },
     "execution_count": 3,
     "metadata": {},
     "output_type": "execute_result"
    }
   ],
   "source": [
    "data.columns"
   ]
  },
  {
   "cell_type": "code",
   "execution_count": 4,
   "id": "4ccec063",
   "metadata": {},
   "outputs": [],
   "source": [
    "df = pd.DataFrame(data, columns= \n",
    "               ['Academic Year', 'Term', 'Date', 'Time', 'Student ID', 'Gender',\n",
    "       'Firstname', 'Surname', 'Major', 'Code', 'Subject', 'Lecturer name',\n",
    "       'Type_of_Issue', 'Type(Other)', 'Type_of_Exam ', 'No. of regulation',\n",
    "       'Level_of_Issue', 'Level_of_Punishment', 'Details', 'Location',\n",
    "       'Educational sanctions', 'Disciplimary sanctions', 'Appeal (Yes/No)',\n",
    "       'Result of Appeal', 'Remark'])"
   ]
  },
  {
   "cell_type": "code",
   "execution_count": 5,
   "id": "8a4e72c0",
   "metadata": {},
   "outputs": [
    {
     "name": "stdout",
     "output_type": "stream",
     "text": [
      "                Academic Year  Term          Date           Time  Student ID  \\\n",
      "0   2023 - 2024 (2566 - 2567)     2  3 เม.ย. 2567  18:00 - 19:50     6680020   \n",
      "1   2023 - 2024 (2566 - 2567)     1  16 พ.ค. 2566  10:00 - 12:00     6381091   \n",
      "2   2023 - 2024 (2566 - 2567)     2  1 เม.ย. 2567  12:00 - 13:50     6380824   \n",
      "3   2023 - 2024 (2566 - 2567)     2  21 ก.พ. 2567  18:00 - 19:50     6580880   \n",
      "4   2022 - 2023 (2565 - 2566)     2  19 ก.พ. 2566  14:00 - 15:50     6381374   \n",
      "5   2022 - 2023 (2565 - 2566)     1  10 ธ.ค. 2565  10:00 - 11:50     6480981   \n",
      "6   2022 - 2023 (2565 - 2566)     3  30 พ.ค. 2566  18:00 - 19:50     6381192   \n",
      "7   2022 - 2023 (2565 - 2566)     1  30 ต.ค. 2566  16:00 - 19:00     6280960   \n",
      "8   2022 - 2023 (2565 - 2566)     1  30 ต.ค. 2566  16:00 - 19:00     6480704   \n",
      "9   2022 - 2023 (2565 - 2566)     1  30 ต.ค. 2566  16:00 - 19:00     6381354   \n",
      "10  2022 - 2023 (2565 - 2566)     1  30 ต.ค. 2566  16:00 - 19:00     6480686   \n",
      "11  2021 - 2022 (2564 - 2565)     1  28 ต.ค. 2564  10:00 - 10:25     6280316   \n",
      "12  2021 - 2022 (2564 - 2565)     1  28 ต.ค. 2564  10:00 - 10:25     6280676   \n",
      "13  2023 - 2024 (2566 - 2567)     1  21 ต.ค. 2566  16:00 - 18:00     6580280   \n",
      "14  2021 - 2022 (2564 - 2565)     2  25 ก.พ. 2565  07:40 - 09:50     6381371   \n",
      "15  2021 - 2022 (2564 - 2565)     2  25 ก.พ. 2565  07:40 - 09:50     6381423   \n",
      "16  2021 - 2022 (2564 - 2565)     1  11 ธ.ค. 2564  14:00 - 15:50     6480554   \n",
      "17  2021 - 2022 (2564 - 2565)     1  11 ธ.ค. 2564  14:00 - 15:50     6380315   \n",
      "18  2021 - 2022 (2564 - 2565)     1  11 ธ.ค. 2564  14:00 - 15:50     6380314   \n",
      "19  2021 - 2022 (2564 - 2565)     1  11 ธ.ค. 2564  14:00 - 15:50     6480477   \n",
      "20  2021 - 2022 (2564 - 2565)     1  11 ธ.ค. 2564  14:00 - 15:50     6380570   \n",
      "21  2021 - 2022 (2564 - 2565)     1  11 ธ.ค. 2564  14:00 - 15:50     6181252   \n",
      "22  2021 - 2022 (2564 - 2565)     1  11 ธ.ค. 2564  14:00 - 15:50     6480149   \n",
      "23  2021 - 2022 (2564 - 2565)     1  11 ธ.ค. 2564  14:00 - 15:50     6381069   \n",
      "\n",
      "   Gender      Firstname          Surname Major     Code  ...  \\\n",
      "0       M      Pantawat      Tipakornkarn    MF  ICGS112  ...   \n",
      "1       F      Suchanya       Siriathiwat    IC  ICIC257  ...   \n",
      "2       M      Bhumikit   Chatlekhavanich    FS  ICFS361  ...   \n",
      "3       F        Ziting              Yang    MF  ICMB213  ...   \n",
      "4       M         Sanpet         Sawatdee    BE  ICMB206  ...   \n",
      "5       F     Bongkotmat         Phanthet    MF  ICMB200  ...   \n",
      "6       M      Viritpol        Limchantra    MI  ICMI431  ...   \n",
      "7       M        Chanon        Nantapirat    MF  ICMB312  ...   \n",
      "8       M  Zhiliang Chen              NaN    MF  ICMB312  ...   \n",
      "9       M   Ziqiang Zhou              NaN    MF  ICMB312  ...   \n",
      "10      F         Yu Bai              NaN    MF  ICMB312  ...   \n",
      "11      F   Sirikarnjana    Trakolphiphat    BI  ICBI215  ...   \n",
      "12      M          Harit           Shashi    BI  ICBI215  ...   \n",
      "13      F      Ningyi Ma              NaN    IB  ICMB215  ...   \n",
      "14      M     Pongsakorn        Boontawee    FS  ICCH102  ...   \n",
      "15      F      Wichulada  Wisitnonthachai    BI  ICCH102  ...   \n",
      "16      M       Thitirat    Vichienpaisan   NaN  ICMA151  ...   \n",
      "17      M        Puriwat      Tanansumrit   NaN  ICMA151  ...   \n",
      "18      F       Katarina          Leugers   NaN  ICMA151  ...   \n",
      "19      F     Alayah Joy          Sumpter   NaN  ICMA151  ...   \n",
      "20      F        Noramon  Chaisomboonphan   NaN  ICMA151  ...   \n",
      "21      M     Pattarawut         Lekvivat   NaN  ICMA151  ...   \n",
      "22      F      Thanatcha     Sippanakosol   NaN  ICMA151  ...   \n",
      "23      M        Peeruch         Radomkij   NaN  ICMA151  ...   \n",
      "\n",
      "            No. of regulation  Level_of_Issue  \\\n",
      "0   7(3)/2560/1,  8(9)/2560/2    High (Major)   \n",
      "1   7(3)/2560/1,  8(9)/2560/2    High (Major)   \n",
      "2   7(3)/2560/1,  8(9)/2560/2    High (Major)   \n",
      "3   7(3)/2560/1,  8(9)/2560/2    High (Major)   \n",
      "4   7(3)/2560/1,  8(9)/2560/2    High (Major)   \n",
      "5   7(3)/2560/1,  8(9)/2560/2    High (Major)   \n",
      "6   7(3)/2560/1,  8(9)/2560/2    High (Major)   \n",
      "7   7(2)/2560/1,  7(3)/2560/1  Medium (Minor)   \n",
      "8   7(3)/2560/1,  8(9)/2560/2    High (Major)   \n",
      "9   7(3)/2560/1,  8(9)/2560/2    High (Major)   \n",
      "10  7(3)/2560/1,  8(9)/2560/2    High (Major)   \n",
      "11                7(3)/2560/1  Medium (Minor)   \n",
      "12                          -             NaN   \n",
      "13                8(9)/2560/2    High (Major)   \n",
      "14                7(3)/2560/1  Medium (Minor)   \n",
      "15                7(3)/2560/1  Medium (Minor)   \n",
      "16  7(3)/2560/1,  8(9)/2560/2    High (Major)   \n",
      "17  7(3)/2560/1,  8(9)/2560/2    High (Major)   \n",
      "18                          -             NaN   \n",
      "19                          -             NaN   \n",
      "20  7(3)/2560/1,  8(9)/2560/2    High (Major)   \n",
      "21  7(3)/2560/1,  8(9)/2560/2    High (Major)   \n",
      "22                7(3)/2560/1  Medium (Minor)   \n",
      "23  7(3)/2560/1,  8(9)/2560/2    High (Major)   \n",
      "\n",
      "                       Level_of_Punishment  \\\n",
      "0              ร้ายแรง 2 ให้นศ.พักการศึกษา   \n",
      "1              ร้ายแรง 2 ให้นศ.พักการศึกษา   \n",
      "2              ร้ายแรง 2 ให้นศ.พักการศึกษา   \n",
      "3              ร้ายแรง 2 ให้นศ.พักการศึกษา   \n",
      "4              ร้ายแรง 2 ให้นศ.พักการศึกษา   \n",
      "5              ร้ายแรง 2 ให้นศ.พักการศึกษา   \n",
      "6              ร้ายแรง 2 ให้นศ.พักการศึกษา   \n",
      "7                     ไม่ร้ายแรง 2 ทำทัณบน   \n",
      "8              ร้ายแรง 2 ให้นศ.พักการศึกษา   \n",
      "9              ร้ายแรง 2 ให้นศ.พักการศึกษา   \n",
      "10             ร้ายแรง 2 ให้นศ.พักการศึกษา   \n",
      "11                    ไม่ร้ายแรง 2 ทำทัณบน   \n",
      "12                                     NaN   \n",
      "13             ร้ายแรง 2 ให้นศ.พักการศึกษา   \n",
      "14  ไม่ร้ายแรง 1 ว่ากล่าว ตักเตือนด้วยวาจา   \n",
      "15  ไม่ร้ายแรง 1 ว่ากล่าว ตักเตือนด้วยวาจา   \n",
      "16             ร้ายแรง 2 ให้นศ.พักการศึกษา   \n",
      "17             ร้ายแรง 2 ให้นศ.พักการศึกษา   \n",
      "18                                     NaN   \n",
      "19                                     NaN   \n",
      "20             ร้ายแรง 2 ให้นศ.พักการศึกษา   \n",
      "21             ร้ายแรง 2 ให้นศ.พักการศึกษา   \n",
      "22                    ไม่ร้ายแรง 2 ทำทัณบน   \n",
      "23             ร้ายแรง 2 ให้นศ.พักการศึกษา   \n",
      "\n",
      "                                              Details        Location  \\\n",
      "0   เขียนตัวอักษรข้อความเกี่ยวกับรายวิชาที่สอบ ลงบ...            1406   \n",
      "1                             นำกระดาษโน๊ตเข้าห้องสอบ             NaN   \n",
      "2   นำโทรศัพท์มือถือเข้าห้องสอบ และแอบชำเลืองดูโทร...             NaN   \n",
      "3   นำโทรศัพท์มือถือเข้าห้องสอบ เพื่อใช้ในการแปลคำ...            1402   \n",
      "4   นำโทรศัพท์มือถือเข้าห้องสอบ และขณะทำการสอบ แอบ...            1406   \n",
      "5   เขียนสูตรคำนวนที่ฝาปิดเครื่องคิดเลข เพื่อนำมาใ...            1402   \n",
      "6   นำกระดาษโน๊ตที่มีเนื้อหาเกี่ยวกับการสอบซุกซ่อน...            1402   \n",
      "7   ให้ username และ password ของตนเองกับบุคคลอื่น...   1512 - 1514/1   \n",
      "8   ให้ username และ password ของตนเองกับบุคคลอื่น...   1512 - 1514/1   \n",
      "9   ให้ username และ password ของตนเองกับบุคคลอื่น...   1512 - 1514/1   \n",
      "10  ให้ username และ password ของตนเองกับบุคคลอื่น...   1512 - 1514/1   \n",
      "11  ออกจากระบบ CANVAS ในระหว่างสอบ quiz online บาง...          online   \n",
      "12  สงสัยว่าได้เข้าสืบค้นหาและคัดลอกข้อมูลจากเวปไซ...          online   \n",
      "13  นำกระดาษโน๊ตเข้าห้องสอบและแอบดูกระดาษโน๊ตในระห...          1514/1   \n",
      "14  สอบถาม access code เพื่อเข้าระบบ CANVAS จากเพื...   online (Zoom)   \n",
      "15  ให้ข้อมูล access code เพื่อเข้าระบบ CANVAS กับ...   online (Zoom)   \n",
      "16  มีการตอบข้อสอบออนไลน์ในแนวเดียวกันกับเพื่อน หล...  online (WebEx)   \n",
      "17  มีการตอบข้อสอบออนไลน์ในแนวเดียวกันกับเพื่อน หล...  online (WebEx)   \n",
      "18                                                NaN  online (WebEx)   \n",
      "19                                                NaN  online (WebEx)   \n",
      "20  ใช้เวปไซต์  www.chengg.com โพสต์ถามคำถามในระหว...  online (WebEx)   \n",
      "21  จ้างบุคคลอื่นผ่านทางทวิตเตอร์ให้ทำการสอบ โดยได...  online (WebEx)   \n",
      "22  ส่งข้อสอบให้บุคคลภายนอกในระหว่างที่ยังไม่สิ้นส...  online (WebEx)   \n",
      "23  ใช้เวปไซต์  www.chengg.com โพสต์ถามคำถามในระหว...  online (WebEx)   \n",
      "\n",
      "   Educational sanctions               Disciplimary sanctions Appeal (Yes/No)  \\\n",
      "0   F ในรายวิชาที่ทุจริต  พักการศึกษา ภาคเรียนที่ 1/2024-2025             NaN   \n",
      "1   F ในรายวิชาที่ทุจริต  พักการศึกษา ภาคเรียนที่ 3/2023-2024             Yes   \n",
      "2   F ในรายวิชาที่ทุจริต  พักการศึกษา ภาคเรียนที่ 1/2024-2025             NaN   \n",
      "3   F ในรายวิชาที่ทุจริต  พักการศึกษา ภาคเรียนที่ 1/2024-2025             NaN   \n",
      "4   F ในรายวิชาที่ทุจริต  พักการศึกษา ภาคเรียนที่ 1/2023-2024             NaN   \n",
      "5   F ในรายวิชาที่ทุจริต  พักการศึกษา ภาคเรียนที่ 2/2022-2023             NaN   \n",
      "6   F ในรายวิชาที่ทุจริต  พักการศึกษา ภาคเรียนที่ 1/2023-2024             NaN   \n",
      "7                      -          ว่ากล่าวตักเตือนเป็นหนังสือ             NaN   \n",
      "8   F ในรายวิชาที่ทุจริต  พักการศึกษา ภาคเรียนที่ 3/2022-2023             NaN   \n",
      "9                      -                                    -             NaN   \n",
      "10  F ในรายวิชาที่ทุจริต  พักการศึกษา ภาคเรียนที่ 3/2022-2023             NaN   \n",
      "11                     -                   ทัณฑ์บนเป็นหนังสือ             NaN   \n",
      "12                   NaN                                  NaN             NaN   \n",
      "13  F ในรายวิชาที่ทุจริต  พักการศึกษา ภาคเรียนที่ 2/2023-2024             NaN   \n",
      "14                   NaN                                  NaN             NaN   \n",
      "15                   NaN                                  NaN             NaN   \n",
      "16  F ในรายวิชาที่ทุจริต  พักการศึกษา ภาคเรียนที่ 1/2022-2023             NaN   \n",
      "17  F ในรายวิชาที่ทุจริต  พักการศึกษา ภาคเรียนที่ 1/2022-2023             NaN   \n",
      "18                     -                                    -             NaN   \n",
      "19  F ในรายวิชาที่ทุจริต                                    -             NaN   \n",
      "20  F ในรายวิชาที่ทุจริต  พักการศึกษา ภาคเรียนที่ 1/2022-2023             NaN   \n",
      "21  F ในรายวิชาที่ทุจริต  พักการศึกษา ภาคเรียนที่ 1/2022-2023             NaN   \n",
      "22                   NaN                   ทัณฑ์บนเป็นหนังสือ             NaN   \n",
      "23  F ในรายวิชาที่ทุจริต  พักการศึกษา ภาคเรียนที่ 1/2022-2023             NaN   \n",
      "\n",
      "                                 Result of Appeal             Remark  \n",
      "0                                             NaN                NaN  \n",
      "1   เลื่อนพักการศึกษาเป็น ภาคเรียนที่ 1/2024-2025                NaN  \n",
      "2                                             NaN                NaN  \n",
      "3                                             NaN                NaN  \n",
      "4                                             NaN                NaN  \n",
      "5                                             NaN                NaN  \n",
      "6                                             NaN                NaN  \n",
      "7                                             NaN                NaN  \n",
      "8                                             NaN                NaN  \n",
      "9                                             NaN              ลาออก  \n",
      "10                                            NaN                NaN  \n",
      "11                                            NaN                NaN  \n",
      "12                                            NaN  หลักฐานไม่ชัดเจน   \n",
      "13                                            NaN                NaN  \n",
      "14                                            NaN                NaN  \n",
      "15                                            NaN                NaN  \n",
      "16                                            NaN                NaN  \n",
      "17                                            NaN                NaN  \n",
      "18                                            NaN        นศ exchange  \n",
      "19                                            NaN                NaN  \n",
      "20                                            NaN                NaN  \n",
      "21                                            NaN                NaN  \n",
      "22                                            NaN                NaN  \n",
      "23                                            NaN                NaN  \n",
      "\n",
      "[24 rows x 25 columns]\n"
     ]
    }
   ],
   "source": [
    "print(df)"
   ]
  },
  {
   "cell_type": "code",
   "execution_count": 6,
   "id": "fda00135",
   "metadata": {},
   "outputs": [
    {
     "data": {
      "text/plain": [
       "Academic Year              object\n",
       "Term                        int64\n",
       "Date                       object\n",
       "Time                       object\n",
       "Student ID                  int64\n",
       "Gender                     object\n",
       "Firstname                  object\n",
       "Surname                    object\n",
       "Major                      object\n",
       "Code                       object\n",
       "Subject                    object\n",
       "Lecturer name              object\n",
       "Type_of_Issue              object\n",
       "Type(Other)               float64\n",
       "Type_of_Exam               object\n",
       "No. of regulation          object\n",
       "Level_of_Issue             object\n",
       "Level_of_Punishment        object\n",
       "Details                    object\n",
       "Location                   object\n",
       "Educational sanctions      object\n",
       "Disciplimary sanctions     object\n",
       "Appeal (Yes/No)            object\n",
       "Result of Appeal           object\n",
       "Remark                     object\n",
       "dtype: object"
      ]
     },
     "execution_count": 6,
     "metadata": {},
     "output_type": "execute_result"
    }
   ],
   "source": [
    "df.dtypes"
   ]
  },
  {
   "cell_type": "code",
   "execution_count": 7,
   "id": "c4b9dc35",
   "metadata": {},
   "outputs": [
    {
     "name": "stdout",
     "output_type": "stream",
     "text": [
      "Academic Year              object\n",
      "Term                        int64\n",
      "Date                       object\n",
      "Time                       object\n",
      "Student ID                  int64\n",
      "Gender                     object\n",
      "Firstname                  object\n",
      "Surname                    object\n",
      "Major                      object\n",
      "Code                       object\n",
      "Subject                    object\n",
      "Lecturer name              object\n",
      "Type_of_Issue              object\n",
      "Type(Other)               float64\n",
      "Type_of_Exam               object\n",
      "No. of regulation          object\n",
      "Level_of_Issue             object\n",
      "Level_of_Punishment        object\n",
      "Details                    object\n",
      "Location                   object\n",
      "Educational sanctions      object\n",
      "Disciplimary sanctions     object\n",
      "Appeal (Yes/No)            object\n",
      "Result of Appeal           object\n",
      "Remark                     object\n",
      "dtype: object\n"
     ]
    }
   ],
   "source": [
    "with pd.option_context('display.max_rows', None, 'display.max_columns', None):\n",
    "    print(df.dtypes)"
   ]
  },
  {
   "cell_type": "code",
   "execution_count": 8,
   "id": "f4fda0a5",
   "metadata": {},
   "outputs": [
    {
     "data": {
      "text/plain": [
       "24"
      ]
     },
     "execution_count": 8,
     "metadata": {},
     "output_type": "execute_result"
    }
   ],
   "source": [
    "import sqlalchemy\n",
    "import pyodbc\n",
    "from sqlalchemy import create_engine\n",
    "from urllib.parse import quote\n",
    "from sqlalchemy.engine.url import URL\n",
    "\n",
    "HOST = 'localhost'\n",
    "PORT = '1433'\n",
    "USERNAME = ''\n",
    "PASSWORD = ''\n",
    "DATABASE = 'MUIC_StudentDisciplinary'\n",
    "\n",
    "myengine = create_engine(f\"mssql+pyodbc://{USERNAME}:{quote(PASSWORD)}@{HOST}/{DATABASE}?driver=ODBC+Driver+17+for+SQL+Server\")\n",
    "\n",
    "#conn_str = \"DRIVER={ODBC Driver 17 for SQL Server};SERVER=10.27.101.206;DATABASE=MUIC_Finance;UID=dwicadm01;PWD=A@Gf$170aGG69x\"  \n",
    "#connection = URL.create(\"mssql+pyodbc\", query={\"odbc_connect\": conn_str})\n",
    "#myengine = create_engine(connection)\n",
    "\n",
    "df.to_sql(\"oaa_disciplinary_20240520\", myengine, index=False, chunksize=500, if_exists='replace')  #replace "
   ]
  }
 ],
 "metadata": {
  "kernelspec": {
   "display_name": "Python 3",
   "language": "python",
   "name": "python3"
  },
  "language_info": {
   "codemirror_mode": {
    "name": "ipython",
    "version": 3
   },
   "file_extension": ".py",
   "mimetype": "text/x-python",
   "name": "python",
   "nbconvert_exporter": "python",
   "pygments_lexer": "ipython3",
   "version": "3.12.5"
  }
 },
 "nbformat": 4,
 "nbformat_minor": 5
}
